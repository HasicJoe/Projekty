{
 "cells": [
  {
   "cell_type": "markdown",
   "metadata": {},
   "source": [
    "# Test Hypotezy"
   ]
  },
  {
   "cell_type": "code",
   "execution_count": 1,
   "metadata": {},
   "outputs": [],
   "source": [
    "import pandas as pd\n",
    "import scipy.stats"
   ]
  },
  {
   "cell_type": "markdown",
   "metadata": {},
   "source": [
    "# Nacitanie dat"
   ]
  },
  {
   "cell_type": "code",
   "execution_count": 2,
   "metadata": {},
   "outputs": [],
   "source": [
    "df = pd.read_pickle('accidents.pkl.gz')\n",
    "# vyfiltrovanie zaznamov iba pre dialnice a cesty prvej triedy\n",
    "df_x = df[['p13a', 'p36']]"
   ]
  },
  {
   "cell_type": "markdown",
   "metadata": {},
   "source": [
    "# Hypoteza 1"
   ]
  },
  {
   "cell_type": "code",
   "execution_count": 3,
   "metadata": {},
   "outputs": [],
   "source": [
    "# vyfiltrovanie druhov pozemnej komunikacie (pre test nas zaujimaju iba dialnice a cesty prvej triedy)\n",
    "df_x = df_x.loc[(df_x['p36'] >= 0) & (df_x['p36'] < 2), :]\n",
    "df_x['first_class'] = df_x['p36'] > 0\n",
    "df_x['acc_caused_death'] = df_x['p13a'] > 0\n",
    "# tvorba kontingencnej tabulky\n",
    "cross_tab = pd.crosstab(df_x['first_class'], df_x['acc_caused_death'])\n"
   ]
  },
  {
   "cell_type": "markdown",
   "metadata": {},
   "source": [
    "# Testovanie hypotezy 1"
   ]
  },
  {
   "cell_type": "code",
   "execution_count": 4,
   "metadata": {},
   "outputs": [
    {
     "name": "stdout",
     "output_type": "stream",
     "text": [
      "Zamietame hypotezu H0\n",
      "chi2=39.314922, p=0.0, dof=1, expected=[[24205.67901104   253.32098896]\n",
      " [78705.32098896   823.67901104]]\n"
     ]
    }
   ],
   "source": [
    "chi2, p, dof, expected = scipy.stats.chi2_contingency(cross_tab)\n",
    "if p <= 0.05:\n",
    "    print('Zamietame hypotezu H0')\n",
    "else:\n",
    "    print('Nemozno zamietnut hypotezu H0 (nemame dostatok informacii k zamietnutiu hypotezy H0)')\n",
    "\n",
    "print(f'chi2={round(chi2, 6)}, p={round(p, 6)}, dof={dof}, expected={expected}')\n",
    "# Ospravedlnujem sa pre kratkost casu som nestihol vypracovat druhu hypotezu."
   ]
  }
 ],
 "metadata": {
  "interpreter": {
   "hash": "b980b767615eac70a263c7df524156bdcf8f4ccaf5aaa68833ee56d096b0d23c"
  },
  "kernelspec": {
   "display_name": "Python 3.9.2 64-bit ('izv': conda)",
   "name": "python3"
  },
  "language_info": {
   "codemirror_mode": {
    "name": "ipython",
    "version": 3
   },
   "file_extension": ".py",
   "mimetype": "text/x-python",
   "name": "python",
   "nbconvert_exporter": "python",
   "pygments_lexer": "ipython3",
   "version": "3.9.2"
  },
  "orig_nbformat": 4
 },
 "nbformat": 4,
 "nbformat_minor": 2
}
